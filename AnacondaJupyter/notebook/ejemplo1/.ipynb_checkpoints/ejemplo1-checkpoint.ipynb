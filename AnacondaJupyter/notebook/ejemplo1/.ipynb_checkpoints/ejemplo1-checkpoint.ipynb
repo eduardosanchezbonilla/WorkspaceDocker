{
 "cells": [
  {
   "cell_type": "code",
   "execution_count": 1,
   "id": "4a5dc545-512a-4d8f-978a-f9a7605f48d7",
   "metadata": {},
   "outputs": [
    {
     "name": "stdout",
     "output_type": "stream",
     "text": [
      "HOLA\n"
     ]
    }
   ],
   "source": [
    "print(\"HOLA\")"
   ]
  },
  {
   "cell_type": "code",
   "execution_count": 2,
   "id": "0003480b-d59d-4798-8484-f65da378226a",
   "metadata": {},
   "outputs": [],
   "source": [
    "numero=1"
   ]
  },
  {
   "cell_type": "code",
   "execution_count": 3,
   "id": "536e46e4-8347-4524-bbff-5f22b30fdb07",
   "metadata": {},
   "outputs": [
    {
     "data": {
      "text/plain": [
       "1"
      ]
     },
     "execution_count": 3,
     "metadata": {},
     "output_type": "execute_result"
    }
   ],
   "source": [
    "numero"
   ]
  },
  {
   "cell_type": "code",
   "execution_count": 4,
   "id": "231c4200-3eda-42d1-abd5-5d74a3bd5226",
   "metadata": {},
   "outputs": [
    {
     "name": "stdout",
     "output_type": "stream",
     "text": [
      "1\n"
     ]
    }
   ],
   "source": [
    "print(numero)"
   ]
  },
  {
   "cell_type": "code",
   "execution_count": null,
   "id": "ed0f2d8e-1ab3-4c58-88c7-e1e75235047f",
   "metadata": {},
   "outputs": [],
   "source": []
  }
 ],
 "metadata": {
  "kernelspec": {
   "display_name": "Python 3 (ipykernel)",
   "language": "python",
   "name": "python3"
  },
  "language_info": {
   "codemirror_mode": {
    "name": "ipython",
    "version": 3
   },
   "file_extension": ".py",
   "mimetype": "text/x-python",
   "name": "python",
   "nbconvert_exporter": "python",
   "pygments_lexer": "ipython3",
   "version": "3.10.6"
  }
 },
 "nbformat": 4,
 "nbformat_minor": 5
}
